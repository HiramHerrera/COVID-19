{
 "cells": [
  {
   "cell_type": "code",
   "execution_count": null,
   "metadata": {},
   "outputs": [],
   "source": [
    "import pandas as pd\n",
    "import numpy as np\n",
    "import matplotlib.pyplot as plt\n",
    "%pylab inline"
   ]
  },
  {
   "cell_type": "code",
   "execution_count": null,
   "metadata": {},
   "outputs": [],
   "source": [
    "mainpath='../csse_covid_19_data/csse_covid_19_time_series/'"
   ]
  },
  {
   "cell_type": "code",
   "execution_count": null,
   "metadata": {},
   "outputs": [],
   "source": [
    "def getCountryStats(country='world',printinfo=True,plot=True,savefig=False):\n",
    "    data=dict()\n",
    "    cases=['confirmed','recovered','deaths']\n",
    "    for case in cases:            \n",
    "        df=pd.read_csv(mainpath+'time_series_covid19_{}_global.csv'.format(case))\n",
    "        days=df.columns[4:]\n",
    "        \n",
    "        if country.lower()!='world':\n",
    "            isCountry=df['Country/Region']==country\n",
    "            df=df[isCountry]\n",
    "        \n",
    "        totalcases= np.array(df[days].sum())\n",
    "        \n",
    "        if case=='confirmed':\n",
    "            start=totalcases>0\n",
    "            # Days after first confirmed\n",
    "            data['days']= days[start]\n",
    "        data[case]=totalcases[start]  \n",
    "        \n",
    "    if printinfo:  \n",
    "        print('COVID-19 FIRST DAY IN {}: {}'.format(country.upper(),data['days'][0])) \n",
    "        print('  TOTAL CASES IN {}'.format(country.upper()))\n",
    "        print('=========================')\n",
    "        for case in cases:\n",
    "            print('{:9s}: {:6d}'.format(case.upper(),int(max(data[case]))))\n",
    "        print('')\n",
    "    \n",
    "    if plot:\n",
    "        plt.figure(figsize=(16,6))       \n",
    "        for case in cases:\n",
    "            plt.plot_date(data['days'],data[case],'-o',label=case)\n",
    "        plt.title('{} COVID-19 CASES'.format(country.upper()))\n",
    "        plt.ylabel('Cases')\n",
    "        plt.xlabel('Days')\n",
    "        plt.legend()\n",
    "        plt.tight_layout()\n",
    "        plt.grid(linestyle='--')\n",
    "        if max(data['confirmed'])>50000:\n",
    "            plt.yscale('log')\n",
    "        if len(data['days'])>30:\n",
    "            plt.xticks(data['days'][::10])\n",
    "        plt.tick_params(axis='x',rotation=90)\n",
    "        if savefig:\n",
    "            plt.savefig('Plots/{}.png'.format(country.lower()),bbox_inches = \"tight\")\n",
    "    return data\n",
    "\n",
    "def plot_multicountry(countries,case='confirmed',savefig=False):\n",
    "    plt.figure(figsize=(16,6))\n",
    "    plt.title('{}'.format(case.upper()))\n",
    "    plt.ylabel('Cases')\n",
    "    plt.xlabel('Days after First Confirmed')\n",
    "    for country in countries:\n",
    "        countrystats=getCountryStats(country,printinfo=False,plot=False)\n",
    "        days=np.arange(len(countrystats['days']))\n",
    "        plt.plot(days,countrystats[case.lower()],'-o',label=country)\n",
    "    plt.grid(linestyle='--')\n",
    "    plt.legend()\n",
    "    plt.tight_layout()\n",
    "    if savefig:\n",
    "        plt.savefig('Plots/multiple_{}.png'.format(case.lower()))\n",
    "        \n",
    "def plot_dailycases(countries,savefig=False):\n",
    "    plt.figure(figsize=(16,6))\n",
    "    plt.title('Daily Cases')\n",
    "    plt.ylabel('Cases')\n",
    "    plt.xlabel('Days after First Confirmed')\n",
    "    for country in countries:\n",
    "        countrystats=getCountryStats(country,printinfo=False,plot=False)\n",
    "        daily=np.zeros(len(countrystats['confirmed']))\n",
    "        daily[1:] = countrystats['confirmed'][1:]-countrystats['confirmed'][:-1]\n",
    "        plt.bar(countrystats['days'],daily,label=country)\n",
    "    plt.grid(linestyle='--')\n",
    "    plt.legend()\n",
    "    plt.tick_params(axis='x',rotation=90)\n",
    "    plt.tight_layout()\n",
    "    if savefig:\n",
    "        plt.savefig('Plots/daily.png')\n",
    "\n",
    "def plot_active(countries,savefig=False):\n",
    "    plt.figure(figsize=(16,6))\n",
    "    plt.ylabel('Active Cases')\n",
    "    plt.xlabel('Days after First Confirmed')\n",
    "    for country in countries:\n",
    "        countrystats=getCountryStats(country,printinfo=False,plot=False)\n",
    "        active=countrystats['confirmed']-countrystats['recovered']-countrystats['deaths']\n",
    "        days=np.arange(len(countrystats['days']))\n",
    "        plt.bar(countrystats['days'],active,label=country)\n",
    "    plt.grid(linestyle='--')\n",
    "    plt.legend()\n",
    "    plt.tight_layout()\n",
    "    plt.tick_params(axis='x',rotation=90)\n",
    "    if savefig:\n",
    "        plt.savefig('Plots/multiple_{}.png'.format(case.lower()))"
   ]
  },
  {
   "cell_type": "markdown",
   "metadata": {},
   "source": [
    "# World"
   ]
  },
  {
   "cell_type": "code",
   "execution_count": null,
   "metadata": {},
   "outputs": [],
   "source": [
    "stats=getCountryStats(savefig=True)"
   ]
  },
  {
   "cell_type": "markdown",
   "metadata": {},
   "source": [
    "# Mexico"
   ]
  },
  {
   "cell_type": "code",
   "execution_count": null,
   "metadata": {},
   "outputs": [],
   "source": [
    "mxStats=getCountryStats('Mexico',savefig=True)"
   ]
  },
  {
   "cell_type": "markdown",
   "metadata": {},
   "source": [
    "# Latin America"
   ]
  },
  {
   "cell_type": "code",
   "execution_count": null,
   "metadata": {},
   "outputs": [],
   "source": [
    "countries=['Argentina','Mexico','Colombia','Chile','Brazil','Ecuador','Peru']\n",
    "plot_multicountry(countries,case='confirmed',savefig=True)\n",
    "plot_multicountry(countries,case='recovered',savefig=True)\n",
    "plot_multicountry(countries,case='deaths',savefig=True)"
   ]
  },
  {
   "cell_type": "code",
   "execution_count": null,
   "metadata": {},
   "outputs": [],
   "source": [
    "plot_dailycases(['Mexico'],savefig=False)"
   ]
  },
  {
   "cell_type": "code",
   "execution_count": null,
   "metadata": {},
   "outputs": [],
   "source": [
    "plot_active(['Mexico'],savefig=False)"
   ]
  },
  {
   "cell_type": "markdown",
   "metadata": {},
   "source": [
    "# Monte-Carlo"
   ]
  },
  {
   "cell_type": "code",
   "execution_count": null,
   "metadata": {},
   "outputs": [],
   "source": [
    "Stats = getCountryStats('Mexico',plot=False,savefig=True)\n",
    "days = np.arange(len(Stats['days']))\n",
    "count = Stats['confirmed']"
   ]
  },
  {
   "cell_type": "code",
   "execution_count": null,
   "metadata": {},
   "outputs": [],
   "source": [
    "max(count[1:]-count[:-1])"
   ]
  },
  {
   "cell_type": "code",
   "execution_count": null,
   "metadata": {},
   "outputs": [],
   "source": [
    "import emcee"
   ]
  },
  {
   "cell_type": "code",
   "execution_count": null,
   "metadata": {},
   "outputs": [],
   "source": [
    "from scipy.optimize import minimize\n",
    "from scipy.special import factorial\n",
    "\n",
    "def model(params,days):\n",
    "        #mod=params[0]*np.exp(-0.5*(days-params[1])**2/params[2]**2) #Gaussian\n",
    "        #mod = params[0]*np.exp(params[1]*(days-params[2]))/(1+np.exp(params[1]*(days-params[2])))**2.#Logistic derivative\n",
    "        #mod = params[0]*params[1]**days*np.exp(-params[1])/factorial(days)\n",
    "        #mod = params[0]*days**3/(np.exp(params[1]*days)-1) + params[2] # Plank?\n",
    "        mod = params[0]/(1+params[1]*np.exp(-params[2]*days))# Logistic model\n",
    "        return mod\n",
    "    \n",
    "def log_like(params,days,count):\n",
    "    chi = (count-model(params,days))**2.\n",
    "    return -0.5*sum(chi)\n",
    "\n",
    "def priors(params,plist):\n",
    "    p=True\n",
    "    for i,param in enumerate(params):\n",
    "        p &= plist[2*i]<param<plist[2*i+1]\n",
    "    if p==True:\n",
    "        return 0.0\n",
    "    return -np.inf\n",
    "\n",
    "def log_post(params,days,count,plist):\n",
    "    prior = priors(params,plist)\n",
    "    if not np.isfinite(prior):\n",
    "        return -np.inf\n",
    "    return prior + log_like(params,days,count)"
   ]
  },
  {
   "cell_type": "code",
   "execution_count": null,
   "metadata": {},
   "outputs": [],
   "source": [
    "nwalkers = 300\n",
    "ndim = 3"
   ]
  },
  {
   "cell_type": "code",
   "execution_count": null,
   "metadata": {},
   "outputs": [],
   "source": [
    "from scipy.optimize import minimize\n",
    "fun = lambda *args: -log_like(*args)\n",
    "results = minimize(fun,[max(count),3000,1],args=(days,count),method='L-BFGS-B')\n",
    "results"
   ]
  },
  {
   "cell_type": "code",
   "execution_count": null,
   "metadata": {},
   "outputs": [],
   "source": [
    "mid = results.x\n",
    "plist=[10000,3e6,0,1e6,0,10]\n",
    "pos = mid + 1e-4 * np.random.randn(nwalkers, ndim)"
   ]
  },
  {
   "cell_type": "code",
   "execution_count": null,
   "metadata": {},
   "outputs": [],
   "source": [
    "b_steps, steps = 400,1500"
   ]
  },
  {
   "cell_type": "code",
   "execution_count": null,
   "metadata": {},
   "outputs": [],
   "source": [
    "sampler = emcee.EnsembleSampler(nwalkers, ndim,log_post, args=(days,count,plist))\n",
    "pos,prob,state=sampler.run_mcmc(pos, b_steps)\n",
    "chain_burn  = sampler.get_chain()"
   ]
  },
  {
   "cell_type": "code",
   "execution_count": null,
   "metadata": {},
   "outputs": [],
   "source": [
    "fig, axes = plt.subplots(3, figsize=(10, 7), sharex=True)\n",
    "labels = [r'$L$',r'$\\beta$',r'$k$']\n",
    "for i in range(ndim):\n",
    "    ax = axes[i]\n",
    "    ax.plot(chain_burn[:, :, i],'k', alpha=0.3)\n",
    "    ax.set_xlim(0, len(chain_burn))\n",
    "    ax.set_ylabel(labels[i])\n",
    "    ax.yaxis.set_label_coords(-0.1, 0.5)\n",
    "    ax.grid(linestyle='--')\n",
    "axes[-1].set_xlabel(\"step number\")\n",
    "plt.suptitle(\"Burn In\")"
   ]
  },
  {
   "cell_type": "code",
   "execution_count": null,
   "metadata": {},
   "outputs": [],
   "source": [
    "sampler.acceptance_fraction.mean()"
   ]
  },
  {
   "cell_type": "code",
   "execution_count": null,
   "metadata": {},
   "outputs": [],
   "source": [
    "sampler.reset()\n",
    "_,_,_=sampler.run_mcmc(pos, steps, rstate0=state)\n",
    "sampler.acceptance_fraction.mean()"
   ]
  },
  {
   "cell_type": "code",
   "execution_count": null,
   "metadata": {},
   "outputs": [],
   "source": [
    "chain  = sampler.get_chain()\n",
    "fig, axes = plt.subplots(3, figsize=(10, 7), sharex=True)\n",
    "labels = [r'$L$',r'$\\beta$',r'$k$']\n",
    "for i in range(ndim):\n",
    "    ax = axes[i]\n",
    "    ax.plot(chain[:,:, i],'k', alpha=0.3)\n",
    "    ax.set_xlim(0, len(chain))\n",
    "    ax.set_ylabel(labels[i])\n",
    "    ax.yaxis.set_label_coords(-0.1, 0.5)\n",
    "    ax.grid(linestyle='--')\n",
    "\n",
    "axes[-1].set_xlabel(\"step number\");"
   ]
  },
  {
   "cell_type": "code",
   "execution_count": null,
   "metadata": {},
   "outputs": [],
   "source": [
    "import corner as corner"
   ]
  },
  {
   "cell_type": "code",
   "execution_count": null,
   "metadata": {},
   "outputs": [],
   "source": [
    "labels = [r'$L$',r'$\\beta$',r'$k$']\n",
    "fig = corner.corner(sampler.flatchain,labels=labels,bins=50,plot_datapoints=False,smooth=2.,smooth1d=2.,\n",
    "                    levels=(1.-np.exp(-0.5),1.-np.exp(-2.),1.-np.exp(-4.5)),quantiles=[.025,0.5,0.975],show_titles=True);"
   ]
  },
  {
   "cell_type": "code",
   "execution_count": null,
   "metadata": {},
   "outputs": [],
   "source": [
    "chain.mean(axis=(0,1))"
   ]
  },
  {
   "cell_type": "code",
   "execution_count": null,
   "metadata": {},
   "outputs": [],
   "source": [
    "figure = plt.figure(figsize=(16,6))\n",
    "d_pred=np.arange(300)\n",
    "runs=sampler.flatchain[np.random.randint(len(sampler.flatchain), size=300)]\n",
    "for c1,c2,c3 in runs:\n",
    "    fig1,=plt.plot(d_pred,model([c1,c2,c3],d_pred),'g',alpha=0.3)\n",
    "fig2, = plt.plot(d_pred,model(chain.mean(axis=(0,1)),d_pred),'r')\n",
    "fig3 = plt.bar(days,count,color='b',width=1,edgecolor='k',alpha=0.5)\n",
    "\n",
    "plt.legend([fig1,fig2,fig3],['Random samples','mean','data'],loc='best')\n",
    "plt.xlabel('days',fontsize=20)\n",
    "plt.ylabel(r'Confirmed Cases',fontsize=20)\n",
    "plt.grid(linestyle='--')"
   ]
  },
  {
   "cell_type": "code",
   "execution_count": null,
   "metadata": {},
   "outputs": [],
   "source": [
    "figure = plt.figure(figsize=(16,6))\n",
    "d_pred=np.arange(200)\n",
    "for c1,c2,c3 in runs:\n",
    "    mod = model([c1,c2,c3],d_pred)\n",
    "    pred = np.zeros(len(d_pred))\n",
    "    pred[1:] = mod[1:]-mod[:-1]\n",
    "    fig1,=plt.plot(d_pred,pred,'g',alpha=0.3);\n",
    "mod=model(chain.mean(axis=(0,1)),d_pred)\n",
    "pred[1:] = mod[1:]-mod[:-1]\n",
    "fig2, = plt.plot(d_pred,pred,'r');\n",
    "\n",
    "real = np.zeros(len(days))\n",
    "real[1:] = count[1:]-count[:-1]\n",
    "fig3 = plt.bar(days,real,color='b',width=1,edgecolor='k',alpha=0.5);\n",
    "plt.legend([fig1,fig2,fig3],['Random samples','mean','data'],loc='best')\n",
    "plt.xlabel('days',fontsize=20)\n",
    "plt.ylabel(r'Cases by day',fontsize=20)\n",
    "plt.grid(linestyle='--')"
   ]
  },
  {
   "cell_type": "code",
   "execution_count": null,
   "metadata": {},
   "outputs": [],
   "source": [
    "maximum=np.argmax(pred)\n",
    "day=np.where((d_pred>40)&(pred<0.02*pred[maximum]))[0]"
   ]
  },
  {
   "cell_type": "code",
   "execution_count": null,
   "metadata": {},
   "outputs": [],
   "source": [
    "from datetime import datetime,timedelta \n",
    "start_date=datetime.strptime(Stats['days'][0],\"%m/%d/%y\")\n",
    "end_date= start_date+timedelta(days=int(day[0]))\n",
    "print(f'End of quarantine: {end_date.strftime(\"%d/%m/%Y\")}')"
   ]
  },
  {
   "cell_type": "code",
   "execution_count": null,
   "metadata": {},
   "outputs": [],
   "source": [
    "max_date= start_date+timedelta(days=int(maximum))\n",
    "print(f'Maximum expected: {max_date.strftime(\"%d/%m/%Y\")}')"
   ]
  },
  {
   "cell_type": "code",
   "execution_count": null,
   "metadata": {},
   "outputs": [],
   "source": [
    "count[1:]-count[:-1]"
   ]
  },
  {
   "cell_type": "code",
   "execution_count": null,
   "metadata": {},
   "outputs": [],
   "source": []
  }
 ],
 "metadata": {
  "kernelspec": {
   "display_name": "Python 3",
   "language": "python",
   "name": "python3"
  },
  "language_info": {
   "codemirror_mode": {
    "name": "ipython",
    "version": 3
   },
   "file_extension": ".py",
   "mimetype": "text/x-python",
   "name": "python",
   "nbconvert_exporter": "python",
   "pygments_lexer": "ipython3",
   "version": "3.7.4"
  }
 },
 "nbformat": 4,
 "nbformat_minor": 4
}
